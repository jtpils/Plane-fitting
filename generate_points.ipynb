{
 "cells": [
  {
   "cell_type": "code",
   "execution_count": 3,
   "metadata": {},
   "outputs": [],
   "source": [
    "import matplotlib.pyplot as plt\n",
    "from mpl_toolkits.mplot3d import Axes3D\n",
    "import numpy as np\n",
    "import random\n",
    "from random import randint\n",
    "\n",
    "# генерация облака точек\n",
    "N_POINTS_folse = 5     # количество точек с возможным промахом\n",
    "N_POINTS_true = 10     # количество точек принадлежащих плоскости\n",
    "N_POINTS = N_POINTS_true + N_POINTS_folse # всего точек\n",
    "TARGET_X_SLOPE = 3 # задаём наклон подразумеваемой плоскости по оси X\n",
    "TARGET_y_SLOPE = 3 # задаём наклон подразумеваемой плоскости по оси Y\n",
    "TARGET_OFFSET  = 0 # параметр смещения подразумеваемой плоскости по оси Z\n",
    "EXTENTS = 5        # протяжённость пространства\n",
    "NOISE = 5          # помеха\n",
    "NOISE_true = 0.5  # разброс плоскости\n",
    "\n",
    "# Создаём(рандомим) облако точек\n",
    "xs = [np.random.uniform(2*EXTENTS)-EXTENTS for i in range(N_POINTS)]\n",
    "ys = [np.random.uniform(2*EXTENTS)-EXTENTS for i in range(N_POINTS)]\n",
    "zs = []\n",
    "for i in range(N_POINTS_folse):\n",
    "    zs.append(xs[i]*TARGET_X_SLOPE + \\\n",
    "              ys[i]*TARGET_y_SLOPE + \\\n",
    "              TARGET_OFFSET + np.random.normal(scale=NOISE))\n",
    "    \n",
    "for i in range(N_POINTS_folse, N_POINTS):\n",
    "    zs.append(xs[i]*TARGET_X_SLOPE + \\\n",
    "              ys[i]*TARGET_y_SLOPE + \\\n",
    "              TARGET_OFFSET + random.uniform(-NOISE_true, NOISE_true))"
   ]
  },
  {
   "cell_type": "code",
   "execution_count": 4,
   "metadata": {},
   "outputs": [],
   "source": [
    "# запись в файл\n",
    "f = open('test.txt', 'w') # создать файл\n",
    "f.write(str(NOISE_true) + '\\n') # разброс в пределах плоскости\n",
    "f.write(str(N_POINTS) + '\\n') # количество точек\n",
    "for i in range(N_POINTS):\n",
    "  f.write(str(xs[i]) + '\\t' + str(ys[i]) + '\\t' + str(zs[i]) + '\\n')    \n",
    "f.close()"
   ]
  },
  {
   "cell_type": "code",
   "execution_count": null,
   "metadata": {},
   "outputs": [],
   "source": []
  }
 ],
 "metadata": {
  "kernelspec": {
   "display_name": "Python 3",
   "language": "python",
   "name": "python3"
  },
  "language_info": {
   "codemirror_mode": {
    "name": "ipython",
    "version": 3
   },
   "file_extension": ".py",
   "mimetype": "text/x-python",
   "name": "python",
   "nbconvert_exporter": "python",
   "pygments_lexer": "ipython3",
   "version": "3.7.1"
  }
 },
 "nbformat": 4,
 "nbformat_minor": 2
}
